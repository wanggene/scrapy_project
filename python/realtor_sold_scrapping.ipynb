{
 "cells": [
  {
   "cell_type": "code",
   "execution_count": 1,
   "metadata": {
    "collapsed": true
   },
   "outputs": [],
   "source": [
    "import numpy as np\n",
    "import pandas as pd\n",
    "import requests\n",
    "from bs4 import BeautifulSoup\n",
    "from datetime import datetime as dt\n",
    "from time import sleep\n",
    "import re, math"
   ]
  },
  {
   "cell_type": "code",
   "execution_count": 2,
   "metadata": {},
   "outputs": [],
   "source": [
    "import warnings\n",
    "warnings.filterwarnings('ignore')"
   ]
  },
  {
   "cell_type": "code",
   "execution_count": 3,
   "metadata": {
    "collapsed": true
   },
   "outputs": [],
   "source": [
    "headers = {\n",
    "    'Accept-Encoding': 'gzip, deflate, sdch',\n",
    "    'Accept-Language': 'en-US,en;q=0.8',\n",
    "    'Upgrade-Insecure-Requests': '1',\n",
    "    'User-Agent': 'Mozilla/5.0 (X11; Linux x86_64) AppleWebKit/537.36 (KHTML, like Gecko) Chrome/56.0.2924.87 Safari/537.36',\n",
    "    'Accept': 'text/html,application/xhtml+xml,application/xml;q=0.9,image/webp,*/*;q=0.8',\n",
    "    'Cache-Control': 'max-age=0',\n",
    "    'Connection': 'keep-alive',\n",
    "}"
   ]
  },
  {
   "cell_type": "code",
   "execution_count": 8,
   "metadata": {
    "collapsed": true
   },
   "outputs": [],
   "source": [
    "town = 'woodbury'\n",
    "\n",
    "list_link = []  \n",
    "list_price = []  \n",
    "price_tags = []  \n",
    "list_date = [] \n",
    "list_address = [] \n",
    "list_beds = [] \n",
    "list_baths = [] \n",
    "list_sqft = [] \n",
    "list_lotsize = [] \n",
    "list_garage = [] \n",
    "list_neighbor = [] \n",
    "list_style = []\n",
    "list_year = []\n",
    "list_month = []\n",
    "list_lotarea = []"
   ]
  },
  {
   "cell_type": "code",
   "execution_count": 9,
   "metadata": {
    "collapsed": true
   },
   "outputs": [],
   "source": [
    "\n",
    "url = 'http://www.realtor.com/soldhomeprices/' + town + '_NY/beds-3/baths-2/price-na-900000/sby-1?pgsz=50' # page1\n",
    "#url = 'http://www.realtor.com/soldhomeprices/' + town + '_NY/beds-3/baths-2/price-na-900000/sby-1/pg-2?pgsz=50' # page2\n",
    "#url = 'http://www.realtor.com/soldhomeprices/' + town + '_NY/beds-3/baths-2/price-na-900000/sby-1/pg-3?pgsz=50' # page3"
   ]
  },
  {
   "cell_type": "code",
   "execution_count": 10,
   "metadata": {},
   "outputs": [],
   "source": [
    "r = requests.get(url, headers=headers )\n",
    "data = r.text\n",
    "soup = BeautifulSoup(data)"
   ]
  },
  {
   "cell_type": "code",
   "execution_count": 12,
   "metadata": {},
   "outputs": [],
   "source": [
    "\n",
    "# links \n",
    "links = soup.find_all(\"div\", { \"class\" : \"srp-item-address ellipsis\" })\n",
    "for link in links:\n",
    "    href = 'http://www.realtor.com/' + link.a['href']\n",
    "    list_link.append(href)\n",
    "\n",
    "# price, sold date \n",
    "prices = soup.find_all(\"div\", { \"class\" : \"srp-item-price\" })\n",
    "\n",
    "for price in prices:\n",
    "    sold_info = price.find_all(text = True)\n",
    "    price_tag = sold_info[0].strip()\n",
    "    try: sold_price = int(sold_info[0].strip()[1:-4])*1000\n",
    "    except: sold_price = 0\n",
    "    sold_date = sold_info[3]\n",
    "    sold_year = sold_date.split(' ')[-2]\n",
    "    sold_month = sold_date.split(' ')[1]\n",
    "    \n",
    "    price_tags.append(price_tag)\n",
    "    list_price.append(sold_price)\n",
    "    list_date.append(sold_date)\n",
    "    list_year.append(sold_year)\n",
    "    list_month.append(sold_month)\n",
    "\n",
    "# address\n",
    "addresses = soup.find_all(\"div\", {\"class\" : \"srp-item-address ellipsis\"})\n",
    "\n",
    "for address in addresses:\n",
    "    addr = address.find_all('span')\n",
    "    addr_full = []\n",
    "    for add in addr:\n",
    "        addr_full.append(add.get_text())\n",
    "    addr_name = ' '.join(addr_full)\n",
    "      \n",
    "    list_address.append(addr_name)\n",
    "\n",
    "# neighbor\n",
    "\n",
    "contents = soup.find_all(\"div\", {\"class\" : \"srp-item-details\"})\n",
    "for content in contents:\n",
    "    # neighbor\n",
    "    neighbors = content.find_all('div', {'class': 'srp-item-neighborhood ellipsis link-tertiary hidden-xxs hidden-xs'})\n",
    "    for neighbor in neighbors:\n",
    "        neigh = neighbor.find_all( text=True)[1]\n",
    "   \n",
    "    # style\n",
    "    styles = content.find_all(\"span\", {\"class\": \"srp-property-type\"})\n",
    "    for style in styles:\n",
    "        style_type = style.find_all(text=True)[0]\n",
    "        \n",
    "    # bed\n",
    "    proptys = content.find_all(\"ul\", {\"class\": \"property-meta list-horizontal list-style-disc list-spaced\"})\n",
    "    for propty in proptys:        \n",
    "        propt = propty.find_all(text=True)\n",
    "        bed = propt[1]       \n",
    "        bath = float(propt[4].replace('+', '.5'))\n",
    "        sqft = 0\n",
    "        lot_size = 0\n",
    "        try:\n",
    "            if propt[8] == ' sq ft':\n",
    "                sqft = int(propt[7].replace(',' , ''))\n",
    "                try: \n",
    "                    if propt[11] == ' acres lot':\n",
    "                        lot_size = float(propt[10])\n",
    "                        if lot_size > 4.0:\n",
    "                            lot_size = 0\n",
    "                    elif propt[11] == ' sq ft lot':\n",
    "                        try: lot_size = round(float(propt[10].replace(',', ''))/43560.0, 2)\n",
    "                        except: pass\n",
    "                    lot_area = propt[10] + propt[11]\n",
    "                except:\n",
    "                    pass\n",
    "\n",
    "\n",
    "            else:\n",
    "                if propt[8] == ' acres lot':\n",
    "                    lot_size = float(propt[7])\n",
    "                    if lot_size > 4.0:\n",
    "                        lot_size = 0\n",
    "                elif propt[8] == ' sq ft lot':\n",
    "                    try: lot_size = round(float(propt[10].replace(',', ''))/43560.0, 2)\n",
    "                    except: pass\n",
    "\n",
    "                #lot_area = propt[8] + propt[7]\n",
    "        except: pass\n",
    "\n",
    "    \n",
    "    \n",
    "    list_neighbor.append(neigh)\n",
    "    list_style.append(style_type)\n",
    "    list_beds.append(bed)\n",
    "    list_baths.append(bath)\n",
    "    list_sqft.append(sqft)\n",
    "    list_lotsize.append(lot_size)\n",
    "    #list_lotarea.append(lot_area)"
   ]
  },
  {
   "cell_type": "code",
   "execution_count": 13,
   "metadata": {},
   "outputs": [],
   "source": [
    "links = pd.Series(list_link)\n",
    "dates = pd.Series(list_date)\n",
    "years = pd.Series(list_year)\n",
    "months = pd.Series(list_month)\n",
    "prices = pd.Series(list_price)\n",
    "pricetags = pd.Series(price_tags)\n",
    "address = pd.Series(list_address)\n",
    "\n",
    "neighs = pd.Series(list_neighbor)\n",
    "types = pd.Series(list_style)\n",
    "beds = pd.Series(list_beds)\n",
    "baths = pd.Series(list_baths)\n",
    "sqfts = pd.Series(list_sqft)\n",
    "lotsize = pd.Series(list_lotsize)\n",
    "lotarea = pd.Series(list_lotarea)\n"
   ]
  },
  {
   "cell_type": "code",
   "execution_count": 14,
   "metadata": {},
   "outputs": [
    {
     "data": {
      "text/html": [
       "<div>\n",
       "<table border=\"1\" class=\"dataframe\">\n",
       "  <thead>\n",
       "    <tr style=\"text-align: right;\">\n",
       "      <th></th>\n",
       "      <th>address</th>\n",
       "      <th>bathroom</th>\n",
       "      <th>bedroom</th>\n",
       "      <th>date</th>\n",
       "      <th>link</th>\n",
       "      <th>lot area</th>\n",
       "      <th>lot size-acres</th>\n",
       "      <th>month</th>\n",
       "      <th>neighbors</th>\n",
       "      <th>price</th>\n",
       "      <th>price_tag</th>\n",
       "      <th>sq ft</th>\n",
       "      <th>types</th>\n",
       "      <th>year</th>\n",
       "    </tr>\n",
       "  </thead>\n",
       "  <tbody>\n",
       "    <tr>\n",
       "      <th>0</th>\n",
       "      <td>8 Wimbledon Ct Woodbury NY 11797</td>\n",
       "      <td>2.5</td>\n",
       "      <td>3</td>\n",
       "      <td>May  2, 2017</td>\n",
       "      <td>http://www.realtor.com//realestateandhomes-det...</td>\n",
       "      <td>NaN</td>\n",
       "      <td>0.0</td>\n",
       "      <td>May</td>\n",
       "      <td>Woodbury</td>\n",
       "      <td>410000</td>\n",
       "      <td>$410,000</td>\n",
       "      <td>1488.0</td>\n",
       "      <td>Condo/Townhome/Row Home/Co-Op</td>\n",
       "      <td>2017</td>\n",
       "    </tr>\n",
       "    <tr>\n",
       "      <th>1</th>\n",
       "      <td>15 Village Ln Woodbury NY 11797</td>\n",
       "      <td>2.5</td>\n",
       "      <td>3</td>\n",
       "      <td>February 10, 2017</td>\n",
       "      <td>http://www.realtor.com//realestateandhomes-det...</td>\n",
       "      <td>NaN</td>\n",
       "      <td>0.0</td>\n",
       "      <td>February</td>\n",
       "      <td>Woodbury</td>\n",
       "      <td>445000</td>\n",
       "      <td>$445,000</td>\n",
       "      <td>1488.0</td>\n",
       "      <td>Condo/Townhome/Row Home/Co-Op</td>\n",
       "      <td>2017</td>\n",
       "    </tr>\n",
       "  </tbody>\n",
       "</table>\n",
       "</div>"
      ],
      "text/plain": [
       "                            address  bathroom bedroom                 date  \\\n",
       "0  8 Wimbledon Ct Woodbury NY 11797       2.5       3        May  2, 2017    \n",
       "1   15 Village Ln Woodbury NY 11797       2.5       3   February 10, 2017    \n",
       "\n",
       "                                                link  lot area  \\\n",
       "0  http://www.realtor.com//realestateandhomes-det...       NaN   \n",
       "1  http://www.realtor.com//realestateandhomes-det...       NaN   \n",
       "\n",
       "   lot size-acres     month neighbors   price price_tag   sq ft  \\\n",
       "0             0.0       May  Woodbury  410000  $410,000  1488.0   \n",
       "1             0.0  February  Woodbury  445000  $445,000  1488.0   \n",
       "\n",
       "                           types  year  \n",
       "0  Condo/Townhome/Row Home/Co-Op  2017  \n",
       "1  Condo/Townhome/Row Home/Co-Op  2017  "
      ]
     },
     "execution_count": 14,
     "metadata": {},
     "output_type": "execute_result"
    }
   ],
   "source": [
    "tb_house = pd.DataFrame({'address': address,'price' : prices, 'price_tag': pricetags, 'date' : dates, 'link' : links ,\n",
    "                        'neighbors': neighs, 'types': types, 'bedroom': beds, 'bathroom': baths, 'sq ft': sqfts,\n",
    "                        'lot size-acres': lotsize, 'month': months, 'year' : years, 'lot area': lotarea})\n",
    "tb_house[:2]"
   ]
  },
  {
   "cell_type": "code",
   "execution_count": 266,
   "metadata": {},
   "outputs": [],
   "source": [
    "file_name = 'sold_' + town + '.csv'\n",
    "tb_house.to_csv(file_name)"
   ]
  },
  {
   "cell_type": "code",
   "execution_count": 267,
   "metadata": {},
   "outputs": [
    {
     "data": {
      "text/plain": [
       "(34, 14)"
      ]
     },
     "execution_count": 267,
     "metadata": {},
     "output_type": "execute_result"
    }
   ],
   "source": [
    "tb_house.shape"
   ]
  },
  {
   "cell_type": "code",
   "execution_count": 268,
   "metadata": {},
   "outputs": [
    {
     "name": "stdout",
     "output_type": "stream",
     "text": [
      "woodbury\n"
     ]
    },
    {
     "data": {
      "text/html": [
       "<div>\n",
       "<table border=\"1\" class=\"dataframe\">\n",
       "  <thead>\n",
       "    <tr style=\"text-align: right;\">\n",
       "      <th></th>\n",
       "      <th></th>\n",
       "      <th>count</th>\n",
       "      <th>mean</th>\n",
       "      <th>median</th>\n",
       "      <th>std</th>\n",
       "    </tr>\n",
       "    <tr>\n",
       "      <th>year</th>\n",
       "      <th>month</th>\n",
       "      <th></th>\n",
       "      <th></th>\n",
       "      <th></th>\n",
       "      <th></th>\n",
       "    </tr>\n",
       "  </thead>\n",
       "  <tbody>\n",
       "    <tr>\n",
       "      <th>2016</th>\n",
       "      <th>December</th>\n",
       "      <td>6</td>\n",
       "      <td>706500</td>\n",
       "      <td>744500</td>\n",
       "      <td>111718.843527</td>\n",
       "    </tr>\n",
       "    <tr>\n",
       "      <th rowspan=\"5\" valign=\"top\">2017</th>\n",
       "      <th>April</th>\n",
       "      <td>5</td>\n",
       "      <td>681000</td>\n",
       "      <td>585000</td>\n",
       "      <td>169564.147154</td>\n",
       "    </tr>\n",
       "    <tr>\n",
       "      <th>February</th>\n",
       "      <td>8</td>\n",
       "      <td>645375</td>\n",
       "      <td>664000</td>\n",
       "      <td>147035.406328</td>\n",
       "    </tr>\n",
       "    <tr>\n",
       "      <th>January</th>\n",
       "      <td>5</td>\n",
       "      <td>731800</td>\n",
       "      <td>728000</td>\n",
       "      <td>87476.854082</td>\n",
       "    </tr>\n",
       "    <tr>\n",
       "      <th>March</th>\n",
       "      <td>6</td>\n",
       "      <td>557500</td>\n",
       "      <td>522500</td>\n",
       "      <td>132504.716897</td>\n",
       "    </tr>\n",
       "    <tr>\n",
       "      <th>May</th>\n",
       "      <td>4</td>\n",
       "      <td>678750</td>\n",
       "      <td>720000</td>\n",
       "      <td>200098.933863</td>\n",
       "    </tr>\n",
       "  </tbody>\n",
       "</table>\n",
       "</div>"
      ],
      "text/plain": [
       "               count    mean  median            std\n",
       "year month                                         \n",
       "2016 December      6  706500  744500  111718.843527\n",
       "2017 April         5  681000  585000  169564.147154\n",
       "     February      8  645375  664000  147035.406328\n",
       "     January       5  731800  728000   87476.854082\n",
       "     March         6  557500  522500  132504.716897\n",
       "     May           4  678750  720000  200098.933863"
      ]
     },
     "execution_count": 268,
     "metadata": {},
     "output_type": "execute_result"
    }
   ],
   "source": [
    "print(town)\n",
    "tb_house.groupby(['year', 'month']).price.agg(['count', 'mean', 'median', np.std])"
   ]
  },
  {
   "cell_type": "code",
   "execution_count": null,
   "metadata": {
    "collapsed": true
   },
   "outputs": [],
   "source": []
  }
 ],
 "metadata": {
  "anaconda-cloud": {},
  "kernelspec": {
   "display_name": "Python 3",
   "language": "python",
   "name": "python3"
  },
  "language_info": {
   "codemirror_mode": {
    "name": "ipython",
    "version": 3
   },
   "file_extension": ".py",
   "mimetype": "text/x-python",
   "name": "python",
   "nbconvert_exporter": "python",
   "pygments_lexer": "ipython3",
   "version": "3.6.1"
  }
 },
 "nbformat": 4,
 "nbformat_minor": 1
}
