{
 "cells": [
  {
   "cell_type": "code",
   "execution_count": 1,
   "metadata": {
    "collapsed": true
   },
   "outputs": [],
   "source": [
    "import numpy as np\n",
    "import pandas as pd\n",
    "import requests\n",
    "from bs4 import BeautifulSoup\n",
    "from datetime import datetime as dt\n",
    "from time import sleep\n",
    "import re"
   ]
  },
  {
   "cell_type": "code",
   "execution_count": 2,
   "metadata": {
    "collapsed": false
   },
   "outputs": [],
   "source": [
    "from bs4 import BeautifulSoup\n",
    "import warnings\n",
    "warnings.filterwarnings('ignore')"
   ]
  },
  {
   "cell_type": "code",
   "execution_count": 3,
   "metadata": {
    "collapsed": true
   },
   "outputs": [],
   "source": [
    "headers = {\n",
    "    'Accept-Encoding': 'gzip, deflate, sdch',\n",
    "    'Accept-Language': 'en-US,en;q=0.8',\n",
    "    'Upgrade-Insecure-Requests': '1',\n",
    "    'User-Agent': 'Mozilla/5.0 (X11; Linux x86_64) AppleWebKit/537.36 (KHTML, like Gecko) Chrome/56.0.2924.87 Safari/537.36',\n",
    "    'Accept': 'text/html,application/xhtml+xml,application/xml;q=0.9,image/webp,*/*;q=0.8',\n",
    "    'Cache-Control': 'max-age=0',\n",
    "    'Connection': 'keep-alive',\n",
    "}"
   ]
  },
  {
   "cell_type": "code",
   "execution_count": 33,
   "metadata": {
    "collapsed": true
   },
   "outputs": [],
   "source": [
    "#url = \"http://www.realtor.com/soldhomeprices/Woodbury_NY/beds-4/baths-2/price-na-900000/sby-1?pgsz=50\"\n",
    "#url = \"http://www.realtor.com/soldhomeprices/Syosset_NY/beds-4/baths-2/price-na-900000/sby-1?pgsz=50\"\n",
    "url = 'http://www.realtor.com/realestateandhomes-search/Syosset_NY/beds-4/baths-2/price-na-700000?pgsz=50'\n",
    "r = requests.get(url, headers=headers )\n",
    "data = r.text\n",
    "soup = BeautifulSoup(data)"
   ]
  },
  {
   "cell_type": "code",
   "execution_count": 42,
   "metadata": {
    "collapsed": false
   },
   "outputs": [],
   "source": [
    "list_link = []\n",
    "list_price = []\n",
    "\n",
    "# price\n",
    "prices = soup.find_all(\"span\", { \"class\" : \"data-price-display\" })\n",
    "for price in prices:\n",
    "    sold_info = price.find_all(text = True)   \n",
    "    sold_price = sold_info[0].strip()\n",
    "    list_price.append(sold_price)\n",
    "\n",
    "\n",
    "# links \n",
    "links = soup.find_all(\"div\", { \"class\" : \"srp-item-address ellipsis\" })\n",
    "for link in links:\n",
    "    href = 'http://www.realtor.com/' + link.a['href']\n",
    "    list_link.append(href)\n",
    "\n",
    "links = pd.Series(list_link)\n",
    "prices = pd.Series(list_price)\n",
    "tb_house = pd.DataFrame({'price' : prices, 'link' : links })\n",
    "tb_house = tb_house.sort_values('price')"
   ]
  },
  {
   "cell_type": "code",
   "execution_count": 43,
   "metadata": {
    "collapsed": false
   },
   "outputs": [
    {
     "name": "stdout",
     "output_type": "stream",
     "text": [
      "http://www.realtor.com//realestateandhomes-detail/Syosset_NY_11791_M37747-13705\n",
      "http://www.realtor.com//realestateandhomes-detail/11-Miller-Blvd_Syosset_NY_11791_M43785-05952\n",
      "http://www.realtor.com//realestateandhomes-detail/92-Willets-Dr_Syosset_NY_11791_M41411-21899\n",
      "http://www.realtor.com//realestateandhomes-detail/29-Humphrey-Dr_Syosset_NY_11791_M49050-75645?ex=NY599400853\n",
      "http://www.realtor.com//realestateandhomes-detail/23-Southwood-Cir_Syosset_NY_11791_M32256-74574\n",
      "http://www.realtor.com//realestateandhomes-detail/4-01-Jean-Pl_Syosset_NY_11791_M35008-02423?ex=NY598209605\n",
      "http://www.realtor.com//realestateandhomes-detail/18-Warren-Dr_Syosset_NY_11791_M35595-51526?ex=NY595165437\n",
      "http://www.realtor.com//realestateandhomes-detail/6-Tacoma-Ln_Syosset_NY_11791_M35893-66206\n",
      "http://www.realtor.com//realestateandhomes-detail/1-Van-Sise-Ct_Syosset_NY_11791_M30754-55560\n",
      "http://www.realtor.com//realestateandhomes-detail/133-Colony-Ln_Syosset_NY_11791_M41476-71258\n",
      "http://www.realtor.com//realestateandhomes-detail/3-Woodland-Gate_Syosset_NY_11791_M46050-45616\n",
      "http://www.realtor.com//realestateandhomes-detail/29-London-Rd_Syosset_NY_11791_M40194-59969\n"
     ]
    }
   ],
   "source": [
    "for house in tb_house.link:\n",
    "    print(house)"
   ]
  },
  {
   "cell_type": "code",
   "execution_count": 36,
   "metadata": {
    "collapsed": false
   },
   "outputs": [
    {
     "data": {
      "text/html": [
       "<div>\n",
       "<table border=\"1\" class=\"dataframe\">\n",
       "  <thead>\n",
       "    <tr style=\"text-align: right;\">\n",
       "      <th></th>\n",
       "      <th>link</th>\n",
       "      <th>price</th>\n",
       "    </tr>\n",
       "  </thead>\n",
       "  <tbody>\n",
       "    <tr>\n",
       "      <th>11</th>\n",
       "      <td>http://www.realtor.com//realestateandhomes-det...</td>\n",
       "      <td>$520,000</td>\n",
       "    </tr>\n",
       "    <tr>\n",
       "      <th>4</th>\n",
       "      <td>http://www.realtor.com//realestateandhomes-det...</td>\n",
       "      <td>$539,000</td>\n",
       "    </tr>\n",
       "    <tr>\n",
       "      <th>8</th>\n",
       "      <td>http://www.realtor.com//realestateandhomes-det...</td>\n",
       "      <td>$559,000</td>\n",
       "    </tr>\n",
       "    <tr>\n",
       "      <th>0</th>\n",
       "      <td>http://www.realtor.com//realestateandhomes-det...</td>\n",
       "      <td>$598,000</td>\n",
       "    </tr>\n",
       "    <tr>\n",
       "      <th>3</th>\n",
       "      <td>http://www.realtor.com//realestateandhomes-det...</td>\n",
       "      <td>$599,000</td>\n",
       "    </tr>\n",
       "    <tr>\n",
       "      <th>6</th>\n",
       "      <td>http://www.realtor.com//realestateandhomes-det...</td>\n",
       "      <td>$649,000</td>\n",
       "    </tr>\n",
       "    <tr>\n",
       "      <th>10</th>\n",
       "      <td>http://www.realtor.com//realestateandhomes-det...</td>\n",
       "      <td>$659,000</td>\n",
       "    </tr>\n",
       "    <tr>\n",
       "      <th>1</th>\n",
       "      <td>http://www.realtor.com//realestateandhomes-det...</td>\n",
       "      <td>$698,000</td>\n",
       "    </tr>\n",
       "    <tr>\n",
       "      <th>2</th>\n",
       "      <td>http://www.realtor.com//realestateandhomes-det...</td>\n",
       "      <td>$698,888</td>\n",
       "    </tr>\n",
       "    <tr>\n",
       "      <th>5</th>\n",
       "      <td>http://www.realtor.com//realestateandhomes-det...</td>\n",
       "      <td>$699,000</td>\n",
       "    </tr>\n",
       "    <tr>\n",
       "      <th>7</th>\n",
       "      <td>http://www.realtor.com//realestateandhomes-det...</td>\n",
       "      <td>$699,000</td>\n",
       "    </tr>\n",
       "    <tr>\n",
       "      <th>9</th>\n",
       "      <td>http://www.realtor.com//realestateandhomes-det...</td>\n",
       "      <td>$699,000</td>\n",
       "    </tr>\n",
       "  </tbody>\n",
       "</table>\n",
       "</div>"
      ],
      "text/plain": [
       "                                                 link     price\n",
       "11  http://www.realtor.com//realestateandhomes-det...  $520,000\n",
       "4   http://www.realtor.com//realestateandhomes-det...  $539,000\n",
       "8   http://www.realtor.com//realestateandhomes-det...  $559,000\n",
       "0   http://www.realtor.com//realestateandhomes-det...  $598,000\n",
       "3   http://www.realtor.com//realestateandhomes-det...  $599,000\n",
       "6   http://www.realtor.com//realestateandhomes-det...  $649,000\n",
       "10  http://www.realtor.com//realestateandhomes-det...  $659,000\n",
       "1   http://www.realtor.com//realestateandhomes-det...  $698,000\n",
       "2   http://www.realtor.com//realestateandhomes-det...  $698,888\n",
       "5   http://www.realtor.com//realestateandhomes-det...  $699,000\n",
       "7   http://www.realtor.com//realestateandhomes-det...  $699,000\n",
       "9   http://www.realtor.com//realestateandhomes-det...  $699,000"
      ]
     },
     "execution_count": 36,
     "metadata": {},
     "output_type": "execute_result"
    }
   ],
   "source": [
    "tb_house"
   ]
  },
  {
   "cell_type": "code",
   "execution_count": null,
   "metadata": {
    "collapsed": false
   },
   "outputs": [],
   "source": [
    "\n"
   ]
  },
  {
   "cell_type": "code",
   "execution_count": null,
   "metadata": {
    "collapsed": false
   },
   "outputs": [],
   "source": []
  },
  {
   "cell_type": "code",
   "execution_count": null,
   "metadata": {
    "collapsed": false
   },
   "outputs": [],
   "source": []
  },
  {
   "cell_type": "code",
   "execution_count": null,
   "metadata": {
    "collapsed": true
   },
   "outputs": [],
   "source": []
  }
 ],
 "metadata": {
  "anaconda-cloud": {},
  "kernelspec": {
   "display_name": "Python [conda env:py34]",
   "language": "python",
   "name": "conda-env-py34-py"
  },
  "language_info": {
   "codemirror_mode": {
    "name": "ipython",
    "version": 3
   },
   "file_extension": ".py",
   "mimetype": "text/x-python",
   "name": "python",
   "nbconvert_exporter": "python",
   "pygments_lexer": "ipython3",
   "version": "3.4.5"
  }
 },
 "nbformat": 4,
 "nbformat_minor": 1
}
